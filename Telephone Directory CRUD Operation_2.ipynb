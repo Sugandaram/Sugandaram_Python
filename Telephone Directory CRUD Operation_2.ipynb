{
 "cells": [
  {
   "cell_type": "code",
   "execution_count": 1,
   "id": "5b526d12",
   "metadata": {},
   "outputs": [],
   "source": [
    "import pymongo as pm\n",
    "\n",
    "# Create a database using attribute style on a MongoClient instance. Declare a variable db\n",
    "# and assign the new database as an attribute of the client.\n",
    "\n",
    "client = pm.MongoClient(\"mongodb://127.0.0.1:27017\")\n",
    "\n",
    "db = client.Telephone_directory11\n",
    "\n",
    "mydb = db.Tamilnadu_tele_dir13"
   ]
  },
  {
   "cell_type": "code",
   "execution_count": 2,
   "id": "72e76a0f",
   "metadata": {},
   "outputs": [],
   "source": [
    "# For CRUD operation, create a directory which has fields like Name, Phone number, Place etc.,\n",
    "\n",
    "details = [{'Phone_number': '+91 1234567899','Place':'Chennai','State': 'TamilNadu','Name':'Kumar'},\n",
    "         {'Phone_number': '+91 1234567895','Place':'Madurai','State': 'TamilNadu','Name':'Stephen'},\n",
    "         {'Phone_number': '+91 1234567850','Place':'Mumbai','State':'Maharashtra','Name':'Aditi'},\n",
    "         {'Phone_number': '+91 1234567550','Place':'Bengaluru','State':'Karnataka','Name':'Bhavna'},\n",
    "         {'Phone_number': '+91 1234567220','Place':'Shahdara','State':'Delhi','Name':'DarshanKumar'},\n",
    "         {'Phone_number': '+91 1234567150','Place':'Hoshiarpur','State':'Punjab','Name':'BalaKumar'},\n",
    "         {'Phone_number': '+91 1234567815','Place':'Alluri Sitarama Raju','State':'Andhra Pradesh','Name':'AishwaryaKumari'},\n",
    "         {'Phone_number': '+91 1234567813','Place':'Bundi','State':'Rajasthan','Name':'Ashok'},\n",
    "         {'Phone_number': '+91 1234567884','Place':'Hyderabad','State':'Telangana','Name':'Bimala'},\n",
    "         {'Phone_number': '+91 1234567125','Place':'Khowai','State':'Tripura','Name':'Darshan'}]\n"
   ]
  },
  {
   "cell_type": "code",
   "execution_count": 3,
   "id": "dd974e7e",
   "metadata": {},
   "outputs": [
    {
     "name": "stdout",
     "output_type": "stream",
     "text": [
      "[ObjectId('635d943b405c7838124cfbad'), ObjectId('635d943b405c7838124cfbae'), ObjectId('635d943b405c7838124cfbaf'), ObjectId('635d943b405c7838124cfbb0'), ObjectId('635d943b405c7838124cfbb1'), ObjectId('635d943b405c7838124cfbb2'), ObjectId('635d943b405c7838124cfbb3'), ObjectId('635d943b405c7838124cfbb4'), ObjectId('635d943b405c7838124cfbb5'), ObjectId('635d943b405c7838124cfbb6')]\n"
     ]
    }
   ],
   "source": [
    "# Insert the record into the collection\n",
    "\n",
    "in_data = mydb.insert_many(details)\n",
    "print(in_data.inserted_ids)"
   ]
  },
  {
   "cell_type": "code",
   "execution_count": 8,
   "id": "67cacbba",
   "metadata": {},
   "outputs": [
    {
     "name": "stdout",
     "output_type": "stream",
     "text": [
      "{'_id': ObjectId('635d93750a6bbe11b4132d9a'), 'Phone_number': '+91 1234567150', 'Place': 'Hoshiarpur', 'State': 'Punjab', 'Name': 'BalaKumar'}\n",
      "{'_id': ObjectId('635d943b405c7838124cfbb2'), 'Phone_number': '+91 1234567150', 'Place': 'Hoshiarpur', 'State': 'Punjab', 'Name': 'BalaKumar'}\n",
      "{'_id': ObjectId('635d93750a6bbe11b4132d96'), 'Phone_number': '+91 1234567895', 'Place': 'Madurai', 'State': 'TamilNadu', 'Name': 'Stephen'}\n",
      "{'_id': ObjectId('635d943b405c7838124cfbae'), 'Phone_number': '+91 1234567895', 'Place': 'Madurai', 'State': 'TamilNadu', 'Name': 'Stephen'}\n",
      "{'_id': ObjectId('635d93750a6bbe11b4132d98'), 'Phone_number': '+91 1234567550', 'Place': 'Bengaluru', 'State': 'Karnataka', 'Name': 'Bhavna'}\n",
      "{'_id': ObjectId('635d943b405c7838124cfbb0'), 'Phone_number': '+91 1234567550', 'Place': 'Bengaluru', 'State': 'Karnataka', 'Name': 'Bhavna'}\n"
     ]
    }
   ],
   "source": [
    "# Make a query to find records you just created.\n",
    "\n",
    "for i in mydb.find({\"Name\": \"BalaKumar\"}):\n",
    "    print(i)\n",
    "\n",
    "and_query = mydb.find({\"$and\": [ {\"Name\": \"Stephen\"}]})\n",
    "for i in and_query:\n",
    "    print(i)\n",
    "\n",
    "for i in mydb.find({\"$or\": [{\"Name\": \"Bhavna\"}]}):\n",
    "    print(i)\n"
   ]
  },
  {
   "cell_type": "code",
   "execution_count": 11,
   "id": "87e1e7c7",
   "metadata": {},
   "outputs": [
    {
     "name": "stdout",
     "output_type": "stream",
     "text": [
      "1\n",
      "1\n",
      "{'_id': ObjectId('635d93750a6bbe11b4132d9b'), 'Phone_number': '+91 1234567815', 'Place': 'Alluri Sitarama Raju', 'State': 'Andhra Pradesh', 'Name': 'Bimala'}\n",
      "{'_id': ObjectId('635d93750a6bbe11b4132d9d'), 'Phone_number': '+91 1234567884', 'Place': 'Hyderabad', 'State': 'Telangana', 'Name': 'Bimala'}\n",
      "{'_id': ObjectId('635d943b405c7838124cfbb3'), 'Phone_number': '+91 1234567815', 'Place': 'Alluri Sitarama Raju', 'State': 'Andhra Pradesh', 'Name': 'Bimala'}\n",
      "{'_id': ObjectId('635d943b405c7838124cfbb5'), 'Phone_number': '+91 1234567884', 'Place': 'Hyderabad', 'State': 'Telangana', 'Name': 'Bimala'}\n"
     ]
    }
   ],
   "source": [
    "# Modify the records, use the update_one() method. The update_one() method requires two arguments, query and update.\n",
    "\n",
    "r = mydb.update_one({\"Name\": \"AishwaryaKumari\"}, {\"$set\": {\"Name\": \"Bimala\"}})\n",
    "print(r.matched_count)\n",
    "print(r.modified_count)\n",
    "\n",
    "for i in mydb.find({\"Name\": \"Bimala\"}):\n",
    "    print(i)"
   ]
  },
  {
   "cell_type": "code",
   "execution_count": 12,
   "id": "ed9c13eb",
   "metadata": {},
   "outputs": [
    {
     "name": "stdout",
     "output_type": "stream",
     "text": [
      "1\n"
     ]
    }
   ],
   "source": [
    "# successfully updated\n",
    "\n",
    "# Delete the record, use delete_one() method. delete_one() requires a query parameter\n",
    "# which specifies the document to delete.\n",
    "\n",
    "a = mydb.delete_one({\"Name\": \"Aditi\"})\n",
    "print(a.deleted_count)"
   ]
  },
  {
   "cell_type": "code",
   "execution_count": null,
   "id": "946a231e",
   "metadata": {},
   "outputs": [],
   "source": []
  }
 ],
 "metadata": {
  "kernelspec": {
   "display_name": "Python 3 (ipykernel)",
   "language": "python",
   "name": "python3"
  },
  "language_info": {
   "codemirror_mode": {
    "name": "ipython",
    "version": 3
   },
   "file_extension": ".py",
   "mimetype": "text/x-python",
   "name": "python",
   "nbconvert_exporter": "python",
   "pygments_lexer": "ipython3",
   "version": "3.10.5"
  }
 },
 "nbformat": 4,
 "nbformat_minor": 5
}
